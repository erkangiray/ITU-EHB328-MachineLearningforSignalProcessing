{
 "cells": [
  {
   "cell_type": "markdown",
   "id": "6e05e080-5c98-485a-8ef0-891a95adaadb",
   "metadata": {},
   "source": [
    "# EHB328 - Birinci Odev Ikinci Kisim"
   ]
  },
  {
   "cell_type": "markdown",
   "id": "1dc251bd-4991-40d6-8f1d-92f942e64e84",
   "metadata": {},
   "source": [
    "## Gauss Dagilimina Gore Veriyi Olusturmak"
   ]
  },
  {
   "cell_type": "code",
   "execution_count": 1,
   "id": "8a721852-73ee-478d-a9d4-e62e827223a2",
   "metadata": {},
   "outputs": [],
   "source": [
    "import numpy as np\n",
    "import math  as mt"
   ]
  },
  {
   "cell_type": "code",
   "execution_count": 2,
   "id": "e0319e7c-4271-48a0-be35-148af480fff0",
   "metadata": {},
   "outputs": [],
   "source": [
    "def GenerateGaussianData(N,aves,covs):\n",
    "    #gets number of features\n",
    "    #used in the rest of the code\n",
    "    no_of_features=np.size(aves)\n",
    "    \n",
    "    #av_holder=np.zeros(no_of_features)\n",
    "    # holds averages for features \n",
    "    #for i in loc:\n",
    "    #    av_holder=i\n",
    "    #since I decided to do each class separately\n",
    "    #I removed this part\n",
    "    \n",
    "    \n",
    "    std_dev_holder=np.zeros(no_of_features)\n",
    "    #holds standard deviations for features \n",
    "    for i in range(no_of_features):\n",
    "        std_dev_holder[i]=mt.sqrt(covs[i,i])\n",
    "        \n",
    "    #N sample size specified\n",
    "    #samples from Gaussian distribution\n",
    "    samples=np.zeros((N,no_of_features))\n",
    "    for i in range(N):\n",
    "        for l in range(no_of_features):\n",
    "            samples[i,l]=np.random.normal(aves[l],std_dev_holder[l])\n",
    "            \n",
    "    return samples"
   ]
  },
  {
   "cell_type": "code",
   "execution_count": 3,
   "id": "2c3f96c1-8cae-4266-9961-5d5c4bb5d5ee",
   "metadata": {},
   "outputs": [],
   "source": [
    "#Distribution Parameters for first Class\n",
    "mean_c1=np.array([3,2])\n",
    "cov_c1=np.array([[0.5,0],[0,0.5]])"
   ]
  },
  {
   "cell_type": "code",
   "execution_count": 4,
   "id": "1047dee7-d626-462a-ad15-6d363b6e8d4d",
   "metadata": {},
   "outputs": [],
   "source": [
    "#we want a hundred samples\n",
    "N=100"
   ]
  },
  {
   "cell_type": "code",
   "execution_count": 5,
   "id": "7cda3ce2-9570-451a-893d-bebb291c7820",
   "metadata": {},
   "outputs": [],
   "source": [
    "#sample the Gaussian distribution \n",
    "#hundred times for the first class\n",
    "samples_c1=GenerateGaussianData(N,mean_c1,cov_c1)\n",
    "#print(samples_c1)"
   ]
  },
  {
   "cell_type": "code",
   "execution_count": 6,
   "id": "b86e9f99-64b3-4afb-bfeb-e7087de4c7ab",
   "metadata": {},
   "outputs": [],
   "source": [
    "#Distribution Parameters for second class\n",
    "mean_c2=np.array([5,4])\n",
    "cov_c2=np.array([[1,0],[0,1]])"
   ]
  },
  {
   "cell_type": "code",
   "execution_count": 7,
   "id": "9a06837e-6ea2-46d4-a88d-4d9cd3d28dbe",
   "metadata": {},
   "outputs": [],
   "source": [
    "#Sample Gaussian for the second class\n",
    "samples_c2=GenerateGaussianData(N,mean_c2,cov_c2)\n",
    "#print(samples_c2)"
   ]
  },
  {
   "cell_type": "markdown",
   "id": "4a853635-bf6d-49f1-b94a-0e85d7b829aa",
   "metadata": {},
   "source": [
    "## Ayirt Edici Fonksiyonu Tanimlamak"
   ]
  },
  {
   "cell_type": "markdown",
   "id": "a1d6539c-def5-460b-a7b0-100f1914d3b9",
   "metadata": {},
   "source": [
    "P(C1)=P(C2) olarak siniflarin gelme olasiliklari birbirlerine esittir diye varsaydim."
   ]
  },
  {
   "cell_type": "code",
   "execution_count": 8,
   "id": "f6d2b83c-bf55-4c90-b509-f0edfeca72db",
   "metadata": {},
   "outputs": [],
   "source": [
    "#taking each class to have equal probabilities\n",
    "P_C=0.5"
   ]
  },
  {
   "cell_type": "markdown",
   "id": "b190fe2b-24fd-4321-9255-8e9aa342770b",
   "metadata": {},
   "source": [
    "Her iki sinifin da kovaryans matrislerinin kosegen disi elemanlarini sifir oldugu icin ders notlarindaki ayirt edici fonksiyonu (discriminant function) kullandim. "
   ]
  },
  {
   "cell_type": "code",
   "execution_count": 9,
   "id": "3b520c71-f240-4997-9278-3c5b29514b3f",
   "metadata": {},
   "outputs": [],
   "source": [
    "def discriminant_fnc(data_2_predict,ave,cov_matrix,N,P_C):\n",
    "    # data to predict, expected: 1x2 real number array\n",
    "    # new data to classify\n",
    "    # two elements for each feature\n",
    "    \n",
    "    # ave, expected: 1x2 real number array\n",
    "    # expecting input \"mean_cx\" variables\n",
    "    # distribution parameter\n",
    "    \n",
    "    # cov_matrix, expected: 2x2 real number array\n",
    "    # expecting input \"cov_cx\" variables\n",
    "    # distribution parameter\n",
    "    \n",
    "    # calculate inverse of cov_matrix\n",
    "    inv_cov=np.linalg.inv(cov_matrix)\n",
    "    \n",
    "    # calculate x - averages, \n",
    "    # operation: 1x2 - 1x2, result: 1x2\n",
    "    temp = data_2_predict - ave\n",
    "    \n",
    "    # calculate transpose of x - averages\n",
    "    # result : 2x1\n",
    "    transposed_temp = np.reshape(temp,(2,1))\n",
    "    \n",
    "    # calculate x . cov^-1\n",
    "    dot_temp = np.dot( temp , inv_cov )\n",
    "    # calculate (x . cov^-1) . xT\n",
    "    dot_temp = np.dot( dot_temp, transposed_temp )\n",
    "    # calculate -1/2 * (x-av) . cov^-1 . (x-av)^T\n",
    "    dot_pdt = -1/2 * dot_temp\n",
    "    \n",
    "    # calculate -1/2*N*ln|cov|\n",
    "    # log of covariance matrix times Number of examples\n",
    "    log_cov = (-1/2)*N*(np.log(cov_matrix))\n",
    "    # not sure if abs must be used\n",
    "    \n",
    "    # calculate log(Pi),\n",
    "    # log of prior probability of class\n",
    "    log_prob = np.log(P_C)\n",
    "    \n",
    "    g = dot_pdt + log_cov + log_prob\n",
    "    \n",
    "    return g"
   ]
  },
  {
   "cell_type": "markdown",
   "id": "b33bfdd6-8af7-454f-91c3-ec1e6c862cc9",
   "metadata": {},
   "source": [
    "### discriminant_fnc() Tanimlamasi\n",
    "<b>discriminant_fnc() parametreleri:</b>\n",
    "<br><i>&emsp;data_2_predict:</i><br>\n",
    "&emsp;&ensp;siniflandirmasi yapilacak veri vektoru\n",
    "<br><i>&emsp;ave:</i><br>\n",
    "&emsp;&ensp;ozniteliklere ait dagilimin ortalama vektoru\n",
    "<br><i>&emsp;cov_matrix:</i><br>\n",
    "&emsp;&ensp;ozniteliklere ait dagilimin ortalama vektoru\n",
    "<br><i>&emsp;N:</i><br>\n",
    "&emsp;&ensp;ornek sayisi (example)\n",
    "<br><i>&emsp;P_C:</i><br>\n",
    "&emsp;&ensp;siniflara ait onsel olasilik, P(Ci)\n",
    "<br><br><b>discriminant_fnc() aciklamasi:</b>\n",
    "Mevucut olan siniflardan birine ait dagilim degerleri girilir.\n",
    "O sinifa ait ayirt edici fonksiyonun degeri girilen oznitelik vektorune gore hesaplanir.\n",
    "<br><br><b>kullanilan fonksiyonlar:</b>\n",
    "<br><i>&emsp;np.linalg.inv():</i> bir matrisin eleman tersini elde eder.\n",
    "<br><i>&emsp;np.reshape():</i> ic carpimda kullanilmak uzere verilen vektorun<br>&emsp;transpozunu elde eder.\n",
    "<br><i>&emsp;np.dot():</i> GPU'dan yararlanarak ic carpim islemini gerceklestirir.\n",
    "<br><i>&emsp;np.log():</i> giris uzerinde dogal logaritma islemini gerceklestirir.\n",
    "    "
   ]
  },
  {
   "cell_type": "markdown",
   "id": "f754db46-533e-4016-9538-e5005e6a35d7",
   "metadata": {},
   "source": [
    "<b>Not:</b> Kovaryans matrisleri birbirlerine esit olmadigi icin bir sonraki paragrafta ekledigim Vikipedi baglantilarindaki fonksiyonlari kullanmam gerektigini dusunmustum. Fakat o sayfalarda da bahsettigi uzere asil yapilan islem sonsal olasik dagilimi (P(C|x)) kullanilarak secim yapilmasi. Bu sebeple ders notlarindaki fonksiyonu kullanarak hata yapmadigimi dusunuyorum."
   ]
  },
  {
   "cell_type": "markdown",
   "id": "db8eeaf9-3145-431b-9837-6c60b5dad0e1",
   "metadata": {},
   "source": [
    "Quadratic discriminant analysis (QDA) is closely related to linear discriminant analysis (LDA), where it is assumed that the measurements from each class are normally distributed. Unlike LDA however, in QDA there is no assumption that the covariance of each of the classes is identical. When the normality assumption is true, the best possible test for the hypothesis that a given measurement is from a given class is the likelihood ratio test.\n",
    "https://en.wikipedia.org/wiki/Linear_discriminant_analysis\n",
    "https://en.wikipedia.org/wiki/Quadratic_classifier#Quadratic_discriminant_analysis"
   ]
  },
  {
   "cell_type": "markdown",
   "id": "0f32d0d1-ee6d-483e-ad25-e518656a7b48",
   "metadata": {
    "tags": []
   },
   "source": [
    "## Siniflandirici Tanimlamak"
   ]
  },
  {
   "cell_type": "markdown",
   "id": "11ff3f6c-4b98-467c-9aa3-06d90cad6711",
   "metadata": {},
   "source": [
    "Verilen yeni verinin hangi sinifa ait oldugunu tahmin etmek icin olabilirlik orani (likelihood test) kullanilir."
   ]
  },
  {
   "cell_type": "markdown",
   "id": "7aebdfef-6942-4c30-9e86-7c5df23aedb3",
   "metadata": {},
   "source": [
    "Siniflandiriciyi yapmak icin karar verici fonksiyon ayni veriyi kullanarak iki sinifa da ait olan ayirt edici fonksiyonlari ayri ayri cagirir. Cikan sonuclari karsilastirarak hangi sinifa ait olduguna karar verir."
   ]
  },
  {
   "cell_type": "code",
   "execution_count": 10,
   "id": "75dd783a-56b8-48ae-ba62-63e9feafc099",
   "metadata": {},
   "outputs": [],
   "source": [
    "def Classify(keeper_example,x,ave_matrix,cov_matrix,N,P_matrix):\n",
    "    \n",
    "    # keeper_example, expected: 1x1\n",
    "    # keeps which example we are at\n",
    "    \n",
    "    # x, expected: 1x2\n",
    "    # can be 1x(number of features)\n",
    "    \n",
    "    # ave_matrix, expected: 2x2\n",
    "    # can be (number of classes)x(number of features)\n",
    "    \n",
    "    # cov_matrix, expected: 4x2\n",
    "    # can be ((number of classes)*(number of features))x(number of features)\n",
    "    \n",
    "    # N, expected: 100\n",
    "    # can be (number of examples)\n",
    "    \n",
    "    # P_matrix, expected: 1x2\n",
    "    # can be 1x(number of classes)\n",
    "    # definition: matrix of priori probabilities of each class\n",
    "    \n",
    "    # get number of classes\n",
    "    n_class=np.size(ave_matrix,1)\n",
    "    \n",
    "    # get number of features\n",
    "    n_features=np.size(ave_matrix,0)\n",
    "    \n",
    "    # create array to hold g data\n",
    "    # (number of examples) x (number of classes)\n",
    "    g = np.zeros((1,n_class))\n",
    "    \n",
    "    # loop for finding predictions for each class\n",
    "    for i in range(n_class):\n",
    "        g[0,i]=discriminant_fnc(x, ave_matrix[i, :], cov_matrix[  (0+n_features*i): (n_features+n_features*i), : ], N, P_matrix[0,i])\n",
    "        \n",
    "    # define temporary max and update it\n",
    "    temp_max=0\n",
    "    # loop to find max\n",
    "    for i in range(np.size(g,0)):\n",
    "        \n",
    "        # if g is bigger, update max\n",
    "        # keep class number\n",
    "        if g[0,i] > temp_max:\n",
    "            temp_max=g[i]\n",
    "            a = (keeper_example,'.example belongs to', i, '.class')\n",
    "            \n",
    "        # else, keep the previous max\n",
    "        else:\n",
    "            temp_max=temp_max\n",
    "            \n",
    "    # return the prediction\n",
    "    return a"
   ]
  },
  {
   "cell_type": "markdown",
   "id": "caa10e26-1188-461b-a5fb-bd2b2a434d4f",
   "metadata": {},
   "source": [
    "Ilk once odevde verilen dagilimlarin parametreleri tanimlanir."
   ]
  },
  {
   "cell_type": "code",
   "execution_count": 11,
   "id": "1dbf1f9a-b75d-405e-b97c-6db2350feacf",
   "metadata": {},
   "outputs": [],
   "source": [
    "# Define attributes of the distributions.\n",
    "N=100\n",
    "ave_matrix=np.array([[3,2],[5,4]])\n",
    "cov_matrix=np.array([[.5,0],[0,.5],[1,0],[0,1]])\n",
    "# priori Probabilities of classes taken to be equal\n",
    "P_c=np.array([[.5,.5]])"
   ]
  },
  {
   "cell_type": "markdown",
   "id": "c5a653a2-42a3-41b7-ad2c-0af48257c68d",
   "metadata": {},
   "source": [
    "Sonrasinda en basta Gauss dagilimindan orneklenerek uretilen \"samples\" verisinin her biri icin siniflandirici fonksiyonu cagirilir. Boylece her verinin siniflandirma tahmini yapilir."
   ]
  },
  {
   "cell_type": "code",
   "execution_count": 12,
   "id": "6172d655-5727-4e73-b0a8-010b94ac2dc6",
   "metadata": {},
   "outputs": [
    {
     "name": "stderr",
     "output_type": "stream",
     "text": [
      "C:\\Users\\erkan\\AppData\\Local\\Temp\\ipykernel_12480\\3999837318.py:34: RuntimeWarning: divide by zero encountered in log\n",
      "  log_cov = (-1/2)*N*(np.log(cov_matrix))\n"
     ]
    },
    {
     "ename": "ValueError",
     "evalue": "setting an array element with a sequence.",
     "output_type": "error",
     "traceback": [
      "\u001b[1;31m---------------------------------------------------------------------------\u001b[0m",
      "\u001b[1;31mTypeError\u001b[0m                                 Traceback (most recent call last)",
      "\u001b[1;31mTypeError\u001b[0m: only size-1 arrays can be converted to Python scalars",
      "\nThe above exception was the direct cause of the following exception:\n",
      "\u001b[1;31mValueError\u001b[0m                                Traceback (most recent call last)",
      "Cell \u001b[1;32mIn [12], line 5\u001b[0m\n\u001b[0;32m      1\u001b[0m \u001b[38;5;66;03m# hold the predictions\u001b[39;00m\n\u001b[0;32m      2\u001b[0m \n\u001b[0;32m      3\u001b[0m \u001b[38;5;66;03m# to input only one line of the sample, get \"samples_c1[i,:]\"\"\u001b[39;00m\n\u001b[0;32m      4\u001b[0m \u001b[38;5;28;01mfor\u001b[39;00m i \u001b[38;5;129;01min\u001b[39;00m \u001b[38;5;28mrange\u001b[39m(N):\n\u001b[1;32m----> 5\u001b[0m     prediction_holder \u001b[38;5;241m=\u001b[39m Classify((i\u001b[38;5;241m+\u001b[39m\u001b[38;5;241m1\u001b[39m),samples_c1[i,:],ave_matrix,cov_matrix,N,P_c)\n\u001b[0;32m      6\u001b[0m     \u001b[38;5;28mprint\u001b[39m(prediction_holder)\n",
      "Cell \u001b[1;32mIn [10], line 34\u001b[0m, in \u001b[0;36mClassify\u001b[1;34m(keeper_example, x, ave_matrix, cov_matrix, N, P_matrix)\u001b[0m\n\u001b[0;32m     32\u001b[0m \u001b[38;5;66;03m# loop for finding predictions for each class\u001b[39;00m\n\u001b[0;32m     33\u001b[0m \u001b[38;5;28;01mfor\u001b[39;00m i \u001b[38;5;129;01min\u001b[39;00m \u001b[38;5;28mrange\u001b[39m(n_class):\n\u001b[1;32m---> 34\u001b[0m     \u001b[43mg\u001b[49m\u001b[43m[\u001b[49m\u001b[38;5;241;43m0\u001b[39;49m\u001b[43m,\u001b[49m\u001b[43mi\u001b[49m\u001b[43m]\u001b[49m\u001b[38;5;241m=\u001b[39mdiscriminant_fnc(x, ave_matrix[i, :], cov_matrix[  (\u001b[38;5;241m0\u001b[39m\u001b[38;5;241m+\u001b[39mn_features\u001b[38;5;241m*\u001b[39mi): (n_features\u001b[38;5;241m+\u001b[39mn_features\u001b[38;5;241m*\u001b[39mi), : ], N, P_matrix[\u001b[38;5;241m0\u001b[39m,i])\n\u001b[0;32m     36\u001b[0m \u001b[38;5;66;03m# define temporary max and update it\u001b[39;00m\n\u001b[0;32m     37\u001b[0m temp_max\u001b[38;5;241m=\u001b[39m\u001b[38;5;241m0\u001b[39m\n",
      "\u001b[1;31mValueError\u001b[0m: setting an array element with a sequence."
     ]
    }
   ],
   "source": [
    "# hold the predictions\n",
    "\n",
    "# to input only one line of the sample, get \"samples_c1[i,:]\"\"\n",
    "for i in range(N):\n",
    "    prediction_holder = Classify((i+1),samples_c1[i,:],ave_matrix,cov_matrix,N,P_c)\n",
    "    print(prediction_holder)\n",
    "\n",
    "# print predictions\n",
    "#for i in range(np.size(prediction_holder)):\n",
    "#    print(prediction_holder[i], '\\n')"
   ]
  },
  {
   "cell_type": "code",
   "execution_count": null,
   "id": "885081de-13d2-42e5-bcf4-5291ca407f45",
   "metadata": {},
   "outputs": [],
   "source": [
    "no_example=5\n",
    "i=2\n",
    "a = (no_example,'.example belongs to', i, '.class')\n",
    "print(a)"
   ]
  }
 ],
 "metadata": {
  "kernelspec": {
   "display_name": "Python 3 (ipykernel)",
   "language": "python",
   "name": "python3"
  },
  "language_info": {
   "codemirror_mode": {
    "name": "ipython",
    "version": 3
   },
   "file_extension": ".py",
   "mimetype": "text/x-python",
   "name": "python",
   "nbconvert_exporter": "python",
   "pygments_lexer": "ipython3",
   "version": "3.10.7"
  }
 },
 "nbformat": 4,
 "nbformat_minor": 5
}
