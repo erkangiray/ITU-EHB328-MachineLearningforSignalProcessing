{
 "cells": [
  {
   "cell_type": "markdown",
   "id": "6e05e080-5c98-485a-8ef0-891a95adaadb",
   "metadata": {},
   "source": [
    "# EHB328 - Birinci Odev Ikinci Kisim\n",
    "Erkan Giray Arat"
   ]
  },
  {
   "cell_type": "markdown",
   "id": "19894f1c-ece4-4ea7-b388-10fca8b8dbb7",
   "metadata": {
    "tags": [],
    "toc-hr-collapsed": true
   },
   "source": [
    "## Icindekiler\n",
    "\n",
    "- [SORU 2 EK KISIMLARI](#2.e.1)\n",
    "- [&nbsp;&nbsp;2.e.1 Gauss Dagilimina Gore Veriyi Olusturmak](#2.e.1)\n",
    "- [&nbsp;&nbsp;2.e.2 Ayirt Edici Fonksiyonu Tanimlamak](#2.e.2)\n",
    "- [&nbsp;&nbsp;&nbsp;2.e.2.1 discriminant_fnc() Tanimlamasi](#2.e.2)\n",
    "- [&nbsp;&nbsp;2.e.3 Siniflandirici Tanimlamak](#2.e.3)\n",
    "- [&nbsp;&nbsp;2.e.4 Performans Raporlama](#2.e.4)\n",
    "- [SORU 2 ILK SORULAR](#2.a)\n",
    "- [&nbsp;&nbsp;2.a Sinif 1 ve 2 Icin Ayirt Edici Fonksiyonlar](#2.a)\n",
    "- [&nbsp;&nbsp;2.b Karar Siniri Denklemi](#2.b)\n",
    "- [&nbsp;&nbsp;2.c Yapilan Ogreticili Siniflandirici Midir?](#2.c)\n",
    "- [&nbsp;&nbsp;2.d Siniflandirici Dogrusal Midir?](#2.d)"
   ]
  },
  {
   "cell_type": "markdown",
   "id": "1dc251bd-4991-40d6-8f1d-92f942e64e84",
   "metadata": {},
   "source": [
    "<a name=\"2.e.1\"></a>\n",
    "## Gauss Dagilimina Gore Veriyi Olusturmak"
   ]
  },
  {
   "cell_type": "code",
   "execution_count": 22,
   "id": "8a721852-73ee-478d-a9d4-e62e827223a2",
   "metadata": {},
   "outputs": [],
   "source": [
    "import numpy as np\n",
    "import math  as mt\n",
    "from matplotlib import pyplot as plt"
   ]
  },
  {
   "cell_type": "code",
   "execution_count": 2,
   "id": "e0319e7c-4271-48a0-be35-148af480fff0",
   "metadata": {},
   "outputs": [],
   "source": [
    "def GenerateGaussianData(N,aves,covs):\n",
    "    #gets number of features\n",
    "    #used in the rest of the code\n",
    "    no_of_features=np.size(aves)\n",
    "    \n",
    "    #av_holder=np.zeros(no_of_features)\n",
    "    # holds averages for features \n",
    "    #for i in loc:\n",
    "    #    av_holder=i\n",
    "    #since I decided to do each class separately\n",
    "    #I removed this part\n",
    "    \n",
    "    \n",
    "    std_dev_holder=np.zeros(no_of_features)\n",
    "    #holds standard deviations for features \n",
    "    for i in range(no_of_features):\n",
    "        std_dev_holder[i]=mt.sqrt(covs[i,i])\n",
    "        \n",
    "    #N sample size specified\n",
    "    #samples from Gaussian distribution\n",
    "    samples=np.zeros((N,no_of_features))\n",
    "    for i in range(N):\n",
    "        for l in range(no_of_features):\n",
    "            samples[i,l]=np.random.normal(aves[l],std_dev_holder[l])\n",
    "            \n",
    "    return samples"
   ]
  },
  {
   "cell_type": "code",
   "execution_count": 3,
   "id": "2c3f96c1-8cae-4266-9961-5d5c4bb5d5ee",
   "metadata": {},
   "outputs": [],
   "source": [
    "#Distribution Parameters for first Class\n",
    "mean_c1=np.array([3,2])\n",
    "cov_c1=np.array([[0.5,0],[0,0.5]])"
   ]
  },
  {
   "cell_type": "code",
   "execution_count": 4,
   "id": "1047dee7-d626-462a-ad15-6d363b6e8d4d",
   "metadata": {},
   "outputs": [],
   "source": [
    "#we want a hundred samples\n",
    "N=100"
   ]
  },
  {
   "cell_type": "code",
   "execution_count": 5,
   "id": "7cda3ce2-9570-451a-893d-bebb291c7820",
   "metadata": {},
   "outputs": [],
   "source": [
    "#sample the Gaussian distribution \n",
    "#hundred times for the first class\n",
    "samples_c1=GenerateGaussianData(N,mean_c1,cov_c1)\n",
    "#print(samples_c1)"
   ]
  },
  {
   "cell_type": "code",
   "execution_count": 6,
   "id": "b86e9f99-64b3-4afb-bfeb-e7087de4c7ab",
   "metadata": {},
   "outputs": [],
   "source": [
    "#Distribution Parameters for second class\n",
    "mean_c2=np.array([5,4])\n",
    "cov_c2=np.array([[1,0],[0,1]])"
   ]
  },
  {
   "cell_type": "code",
   "execution_count": 7,
   "id": "9a06837e-6ea2-46d4-a88d-4d9cd3d28dbe",
   "metadata": {},
   "outputs": [],
   "source": [
    "#Sample Gaussian for the second class\n",
    "samples_c2=GenerateGaussianData(N,mean_c2,cov_c2)\n",
    "#print(samples_c2)"
   ]
  },
  {
   "cell_type": "markdown",
   "id": "4a853635-bf6d-49f1-b94a-0e85d7b829aa",
   "metadata": {},
   "source": [
    "<a name=\"2.e.2\"></a>\n",
    "## Ayirt Edici Fonksiyonu Tanimlamak"
   ]
  },
  {
   "cell_type": "markdown",
   "id": "a1d6539c-def5-460b-a7b0-100f1914d3b9",
   "metadata": {},
   "source": [
    "P(C1)=P(C2) olarak siniflarin gelme olasiliklari birbirlerine esittir diye varsaydim."
   ]
  },
  {
   "cell_type": "code",
   "execution_count": 8,
   "id": "f6d2b83c-bf55-4c90-b509-f0edfeca72db",
   "metadata": {},
   "outputs": [],
   "source": [
    "#taking each class to have equal probabilities\n",
    "P_C=0.5"
   ]
  },
  {
   "cell_type": "markdown",
   "id": "b190fe2b-24fd-4321-9255-8e9aa342770b",
   "metadata": {},
   "source": [
    "Her iki sinifin da kovaryans matrislerinin kosegen disi elemanlarini sifir oldugu icin ders notlarindaki ayirt edici fonksiyonu (discriminant function) kullandim. "
   ]
  },
  {
   "cell_type": "code",
   "execution_count": 9,
   "id": "3b520c71-f240-4997-9278-3c5b29514b3f",
   "metadata": {},
   "outputs": [],
   "source": [
    "def discriminant_fnc(data_2_predict,ave,cov_matrix,N,P_C):\n",
    "    # data to predict, expected: 1x2 real number array\n",
    "    # new data to classify\n",
    "    # two elements for each feature\n",
    "    \n",
    "    # ave, expected: 1x2 real number array\n",
    "    # expecting input \"mean_cx\" variables\n",
    "    # distribution parameter\n",
    "    \n",
    "    # cov_matrix, expected: 2x2 real number array\n",
    "    # expecting input \"cov_cx\" variables\n",
    "    # distribution parameter\n",
    "    \n",
    "    # calculate inverse of cov_matrix\n",
    "    inv_cov=np.linalg.inv(cov_matrix)\n",
    "    \n",
    "    # calculate x - averages, \n",
    "    # operation: 1x2 - 1x2, result: 1x2\n",
    "    temp = data_2_predict - ave\n",
    "    \n",
    "    # calculate transpose of x - averages\n",
    "    # result : 2x1\n",
    "    transposed_temp = np.reshape(temp,(2,1))\n",
    "    \n",
    "    # calculate x . cov^-1\n",
    "    dot_temp = np.dot( temp , inv_cov )\n",
    "    # calculate (x . cov^-1) . xT\n",
    "    dot_temp = np.dot( dot_temp, transposed_temp )\n",
    "    # calculate -1/2 * (x-av) . cov^-1 . (x-av)^T\n",
    "    dot_pdt = -1/2 * dot_temp\n",
    "    \n",
    "    # calculate -1/2*N*ln|cov|\n",
    "    # log of covariance matrix times Number of examples\n",
    "    #log_cov = (-1/2)*N*(np.log(cov_matrix))\n",
    "    # not sure if abs must be used\n",
    "    \n",
    "    # calculate log(Pi),\n",
    "    # log of prior probability of class\n",
    "    log_prob = np.log(P_C)\n",
    "    \n",
    "    # I am not sure about incuding log_cov\n",
    "    #g = dot_pdt + log_cov + log_prob\n",
    "    \n",
    "    g = dot_pdt + log_prob\n",
    "    \n",
    "    return g"
   ]
  },
  {
   "cell_type": "markdown",
   "id": "b33bfdd6-8af7-454f-91c3-ec1e6c862cc9",
   "metadata": {
    "tags": []
   },
   "source": [
    "<a name=\"2.e.2.1\"></a>\n",
    "### discriminant_fnc() Tanimlamasi\n",
    "<b>discriminant_fnc() parametreleri:</b>\n",
    "<br><i>&emsp;data_2_predict:</i><br>\n",
    "&emsp;&ensp;siniflandirmasi yapilacak veri vektoru\n",
    "<br><i>&emsp;ave:</i><br>\n",
    "&emsp;&ensp;ozniteliklere ait dagilimin ortalama vektoru\n",
    "<br><i>&emsp;cov_matrix:</i><br>\n",
    "&emsp;&ensp;ozniteliklere ait dagilimin ortalama vektoru\n",
    "<br><i>&emsp;N:</i><br>\n",
    "&emsp;&ensp;ornek sayisi (example)\n",
    "<br><i>&emsp;P_C:</i><br>\n",
    "&emsp;&ensp;siniflara ait onsel olasilik, P(Ci)\n",
    "<br><br><b>discriminant_fnc() aciklamasi:</b>\n",
    "Mevucut olan siniflardan birine ait dagilim degerleri girilir.\n",
    "O sinifa ait ayirt edici fonksiyonun degeri girilen oznitelik vektorune gore hesaplanir.\n",
    "<br><br><b>kullanilan fonksiyonlar:</b>\n",
    "<br><i>&emsp;np.linalg.inv():</i> bir matrisin eleman tersini elde eder.\n",
    "<br><i>&emsp;np.reshape():</i> ic carpimda kullanilmak uzere verilen vektorun<br>&emsp;transpozunu elde eder.\n",
    "<br><i>&emsp;np.dot():</i> GPU'dan yararlanarak ic carpim islemini gerceklestirir.\n",
    "<br><i>&emsp;np.log():</i> giris uzerinde dogal logaritma islemini gerceklestirir.\n",
    "    "
   ]
  },
  {
   "cell_type": "markdown",
   "id": "f754db46-533e-4016-9538-e5005e6a35d7",
   "metadata": {},
   "source": [
    "<b>Not:</b> Kovaryans matrisleri birbirlerine esit olmadigi icin bir sonraki paragrafta ekledigim Vikipedi baglantilarindaki fonksiyonlari kullanmam gerektigini dusunmustum. Fakat o sayfalarda da bahsettigi uzere asil yapilan islem sonsal olasik dagilimi (P(C|x)) kullanilarak secim yapilmasi. Bu sebeple ders notlarindaki fonksiyonu kullanarak hata yapmadigimi dusunuyorum."
   ]
  },
  {
   "cell_type": "markdown",
   "id": "db8eeaf9-3145-431b-9837-6c60b5dad0e1",
   "metadata": {},
   "source": [
    "Quadratic discriminant analysis (QDA) is closely related to linear discriminant analysis (LDA), where it is assumed that the measurements from each class are normally distributed. Unlike LDA however, in QDA there is no assumption that the covariance of each of the classes is identical. When the normality assumption is true, the best possible test for the hypothesis that a given measurement is from a given class is the likelihood ratio test.\n",
    "https://en.wikipedia.org/wiki/Linear_discriminant_analysis\n",
    "https://en.wikipedia.org/wiki/Quadratic_classifier#Quadratic_discriminant_analysis"
   ]
  },
  {
   "cell_type": "markdown",
   "id": "0f32d0d1-ee6d-483e-ad25-e518656a7b48",
   "metadata": {
    "tags": []
   },
   "source": [
    "<a name=\"2.e.3\"></a>\n",
    "## Siniflandirici Tanimlamak"
   ]
  },
  {
   "cell_type": "markdown",
   "id": "11ff3f6c-4b98-467c-9aa3-06d90cad6711",
   "metadata": {},
   "source": [
    "Verilen yeni verinin hangi sinifa ait oldugunu tahmin etmek icin olabilirlik orani (likelihood test) kullanilir."
   ]
  },
  {
   "cell_type": "markdown",
   "id": "7aebdfef-6942-4c30-9e86-7c5df23aedb3",
   "metadata": {},
   "source": [
    "Siniflandiriciyi yapmak icin karar verici fonksiyon ayni veriyi kullanarak iki sinifa da ait olan ayirt edici fonksiyonlari ayri ayri cagirir. Cikan sonuclari karsilastirarak hangi sinifa ait olduguna karar verir."
   ]
  },
  {
   "cell_type": "code",
   "execution_count": 10,
   "id": "75dd783a-56b8-48ae-ba62-63e9feafc099",
   "metadata": {
    "tags": []
   },
   "outputs": [],
   "source": [
    "def Classify(x,ave_matrix,cov_matrix,N,P_matrix):\n",
    "    \n",
    "    # x, expected: 1x2\n",
    "    # can be 1x(number of features)\n",
    "    \n",
    "    # ave_matrix, expected: 2x2\n",
    "    # can be (number of classes)x(number of features)\n",
    "    \n",
    "    # cov_matrix, expected: 4x2\n",
    "    # can be ((number of classes)*(number of features))x(number of features)\n",
    "    \n",
    "    # N, expected: 100\n",
    "    # can be (number of examples)\n",
    "    \n",
    "    # P_matrix, expected: 1x2\n",
    "    # can be 1x(number of classes)\n",
    "    # definition: matrix of priori probabilities of each class\n",
    "    \n",
    "    # get number of classes\n",
    "    n_class=np.size(ave_matrix,1)\n",
    "    \n",
    "    # get number of features\n",
    "    n_features=np.size(ave_matrix,0)\n",
    "    \n",
    "    # create array to hold g data\n",
    "    # (number of examples) x (number of classes)\n",
    "    g = np.zeros((1,n_class))\n",
    "    \n",
    "    # loop for finding predictions for each class\n",
    "    for i in range(n_class):\n",
    "        g[0,i]=discriminant_fnc(x, ave_matrix[i, :], cov_matrix[  (0+n_features*i): (n_features+n_features*i), : ], N, P_matrix[0,i])\n",
    "        \n",
    "    # define temporary max and update it\n",
    "    temp_max = - mt.inf\n",
    "    keep_class=0\n",
    "    # loop to find max\n",
    "    for i in range(n_class):\n",
    "        \n",
    "        temp_g=float(g[0,i])\n",
    "        #temp_g=temp_g.item()\n",
    "        #temp_g=abs(temp_g)\n",
    "        \n",
    "        # if g is bigger, update max\n",
    "        # keep class number\n",
    "        if temp_g >temp_max:\n",
    "            temp_max=temp_g\n",
    "            keep_class=i\n",
    "            \n",
    "        # else, keep the previous max\n",
    "        else:\n",
    "            temp_max=temp_max\n",
    "            \n",
    "    # return the prediction\n",
    "    return keep_class"
   ]
  },
  {
   "cell_type": "markdown",
   "id": "caa10e26-1188-461b-a5fb-bd2b2a434d4f",
   "metadata": {},
   "source": [
    "Ilk once odevde verilen dagilimlarin parametreleri tanimlanir."
   ]
  },
  {
   "cell_type": "code",
   "execution_count": 11,
   "id": "1dbf1f9a-b75d-405e-b97c-6db2350feacf",
   "metadata": {},
   "outputs": [],
   "source": [
    "# Define attributes of the distributions.\n",
    "N=100\n",
    "ave_matrix=np.array([[3,2],[5,4]])\n",
    "cov_matrix=np.array([[.5,0],[0,.5],[1,0],[0,1]])\n",
    "# priori Probabilities of classes taken to be equal\n",
    "P_c=np.array([[.5,.5]])"
   ]
  },
  {
   "cell_type": "markdown",
   "id": "c5a653a2-42a3-41b7-ad2c-0af48257c68d",
   "metadata": {},
   "source": [
    "Sonrasinda en basta Gauss dagilimindan orneklenerek uretilen \"samples\" verisinin her biri icin siniflandirici fonksiyonu cagirilir. Boylece her verinin siniflandirma tahmini yapilir."
   ]
  },
  {
   "cell_type": "code",
   "execution_count": 33,
   "id": "6172d655-5727-4e73-b0a8-010b94ac2dc6",
   "metadata": {
    "tags": []
   },
   "outputs": [
    {
     "name": "stdout",
     "output_type": "stream",
     "text": [
      "ONLY the first 10 predictions are printed so that output is not too long\n",
      "These are the predictions for the samples from the distribution of the first class:\n",
      "The  1 . example is predicted to belong to 1 . class.\n",
      "The  2 . example is predicted to belong to 1 . class.\n",
      "The  3 . example is predicted to belong to 1 . class.\n",
      "The  4 . example is predicted to belong to 1 . class.\n",
      "The  5 . example is predicted to belong to 1 . class.\n",
      "The  6 . example is predicted to belong to 1 . class.\n",
      "The  7 . example is predicted to belong to 1 . class.\n",
      "The  8 . example is predicted to belong to 1 . class.\n",
      "The  9 . example is predicted to belong to 1 . class.\n",
      "The  10 . example is predicted to belong to 1 . class.\n"
     ]
    }
   ],
   "source": [
    "# hold the predictions\n",
    "\n",
    "prediction_c1 = np.zeros(N)\n",
    "\n",
    "# do the classification\n",
    "# to input only one line of the sample, get \"samples_c1[i,:]\"\"\n",
    "for i in range(N):\n",
    "    prediction_c1[i] = Classify(samples_c1[i,:],ave_matrix,cov_matrix,N,P_c)\n",
    "    #print(prediction_holder)\n",
    "    \n",
    "# print description\n",
    "print('ONLY the first 10 predictions are printed so that output is not too long')\n",
    "print('These are the predictions for the samples from the distribution of the first class:')\n",
    "# print predictions\n",
    "for i in range(int((np.size(prediction_c1))/10)):\n",
    "    print('The ', (i+1), '. example is predicted to belong to', (1+int(prediction_c1[i])),'. class.')"
   ]
  },
  {
   "cell_type": "code",
   "execution_count": 34,
   "id": "e5ddaa8a-79d5-4734-9b14-c82beda57d03",
   "metadata": {},
   "outputs": [
    {
     "name": "stdout",
     "output_type": "stream",
     "text": [
      "These are the predictions for the samples from the distribution of the second class:\n",
      "The  1 . example is predicted to belong to 2 . class.\n",
      "The  2 . example is predicted to belong to 2 . class.\n",
      "The  3 . example is predicted to belong to 2 . class.\n",
      "The  4 . example is predicted to belong to 2 . class.\n",
      "The  5 . example is predicted to belong to 2 . class.\n",
      "The  6 . example is predicted to belong to 2 . class.\n",
      "The  7 . example is predicted to belong to 2 . class.\n",
      "The  8 . example is predicted to belong to 2 . class.\n",
      "The  9 . example is predicted to belong to 2 . class.\n",
      "The  10 . example is predicted to belong to 2 . class.\n"
     ]
    }
   ],
   "source": [
    "# hold the predictions\n",
    "\n",
    "prediction_c2 = np.zeros(N)\n",
    "\n",
    "#do the classification\n",
    "for i in range(N):\n",
    "    prediction_c2[i] = Classify(samples_c2[i,:],ave_matrix,cov_matrix,N,P_c)\n",
    "    #print(prediction_holder)\n",
    "    \n",
    "# print description\n",
    "print('These are the predictions for the samples from the distribution of the second class:')\n",
    "# print predictions\n",
    "for i in range(int((np.size(prediction_c2))/10)):\n",
    "    print('The ', (i+1), '. example is predicted to belong to', (1+int(prediction_c2[i])),'. class.')"
   ]
  },
  {
   "cell_type": "markdown",
   "id": "614855ae-b22b-45d3-83a2-91edfddf13b1",
   "metadata": {},
   "source": [
    "Fazla veri basilmamasi icin 10 tane veri basildi."
   ]
  },
  {
   "cell_type": "markdown",
   "id": "1a36b0c5-81eb-44ed-93df-79fa80ba2147",
   "metadata": {},
   "source": [
    "Her bir sinifa ait Gauss dagilimlarindan orneklenen x vektorleri icin tahmin siniflandirmalar yapildi. Ilk basilan kisimda birinci sinifa ait orneklerin tahminleri yapildi. 10 tane basilmasina ragmen cogunlukla dogru tahminler yapildigi goruluyor. Yapilan butun tahminler basildiginda, 100'e 4 hata orani gibi hata oranlari karsimiza cikiyor."
   ]
  },
  {
   "cell_type": "markdown",
   "id": "73406a49-980e-4bb7-9732-afa3bd2b9816",
   "metadata": {},
   "source": [
    "<a name=\"2.e.4\"></a>\n",
    "## Performans Raporlama"
   ]
  },
  {
   "cell_type": "markdown",
   "id": "cd3bcc7e-9a42-4463-8ec8-df3f6add19ae",
   "metadata": {},
   "source": [
    "Odevdeki tanima gore karistirma matrisi seklinde raporlamak icin bazi olaylar tanimlayip teshis etmek gerekiyor."
   ]
  },
  {
   "cell_type": "markdown",
   "id": "9fc87a82-af4b-489f-bd0b-8b87b22a93c6",
   "metadata": {},
   "source": [
    "t_a: <b>sinif 1'e</b> atfeden <b>dogru</b> tahmin sayisi<br>\n",
    "t_b: <b>sinif 2'ye</b> atfeden <b>yanlis</b> tahmin sayisi<br>\n",
    "t_c: <b>sinif 1'e</b> atfeden <b>yanlis</b> tahmin sayisi<br>\n",
    "t_d: <b>sinif 2'ye</b> atfeden <b>dogru</b> tahmin sayisi<br>"
   ]
  },
  {
   "cell_type": "code",
   "execution_count": 40,
   "id": "8ea316a6-12f4-42db-a7fc-eaa44f06ba4e",
   "metadata": {},
   "outputs": [],
   "source": [
    "# define holders for number of correct and wrong predictions\n",
    "t_a=0;t_b=0;t_c=0;t_d=0;"
   ]
  },
  {
   "cell_type": "code",
   "execution_count": 41,
   "id": "bcad7167-f361-425c-9eba-cf77a7862128",
   "metadata": {},
   "outputs": [],
   "source": [
    "for i in range(np.size(prediction_c1)):\n",
    "    # number of incorrect predictions of class 2\n",
    "    if int(prediction_c1[i]) != 0 :\n",
    "        t_b=t_b+1\n",
    "    # number of correct predictions of class 1\n",
    "    if int(prediction_c1[i]) == 0 :\n",
    "        t_a=t_a+1"
   ]
  },
  {
   "cell_type": "code",
   "execution_count": 42,
   "id": "d2545c00-d5d8-4512-89f5-43cbff78e0db",
   "metadata": {},
   "outputs": [],
   "source": [
    "for i in range(np.size(prediction_c2)):\n",
    "    # number of incorrect predictions of class 1\n",
    "    if int(prediction_c2[i]) != 1 :\n",
    "        t_c=t_c+1\n",
    "    # number of correct predictions of class 2\n",
    "    if int(prediction_c2[i]) == 1 :\n",
    "        t_d=t_d+1"
   ]
  },
  {
   "cell_type": "markdown",
   "id": "87b262bc-ae4c-42e2-b45b-e7f5f725cdb4",
   "metadata": {},
   "source": [
    "Pasta dilimi grafigi."
   ]
  },
  {
   "cell_type": "code",
   "execution_count": 44,
   "id": "f341b6ab-b949-4f3f-a4d3-4d4ad0a9ef92",
   "metadata": {},
   "outputs": [
    {
     "data": {
      "image/png": "[encoded data removed]",
      "text/plain": [
       "<Figure size 640x480 with 1 Axes>"
      ]
     },
     "metadata": {},
     "output_type": "display_data"
    }
   ],
   "source": [
    "# labels for truthful and deceitful estimations\n",
    "labels='Class 1 - Correct','Class 1 - Incorrect', 'Class 2 - Correct', 'Class 2 - Incorrect'\n",
    "# sizes of each estimation\n",
    "sizes = [t_a,t_c,t_d,t_b]\n",
    "\n",
    "fig1, ax1 = plt.subplots()\n",
    "ax1.pie(sizes, labels=labels, autopct='%1.1f%%',\n",
    "        shadow=False, startangle=90)\n",
    "ax1.axis('equal')  # Equal aspect ratio ensures that pie is drawn as a circle.\n",
    "\n",
    "plt.show()"
   ]
  },
  {
   "cell_type": "markdown",
   "id": "c609c8b5-e349-4352-acc1-2cf5d8b2182f",
   "metadata": {},
   "source": [
    "<a name=\"2.a\"></a>\n",
    "## Sinif 1 ve 2 Icin Ayirt Edici Fonksiyonlar"
   ]
  },
  {
   "cell_type": "markdown",
   "id": "f74186d2-140f-4779-965c-c633c26cd2c0",
   "metadata": {},
   "source": [
    "Iki sinifa da ait ayirt edici fonksiyon denklemi asagidaki gibi tanimlanmistir. Kodlama bolumunde bu denklemlerin gerceklemesi yapildi."
   ]
  },
  {
   "cell_type": "markdown",
   "id": "74823016-32d1-448a-b651-56fce50edb0a",
   "metadata": {},
   "source": [
    "$$\n",
    "g_{1}(x)=-\\frac{1}{2}(x-\\mu_{1})^{T}\\sigma _{1}^{-2}(x-\\mu_{1})+log(P_{1})\n",
    "$$"
   ]
  },
  {
   "cell_type": "markdown",
   "id": "844477d8-2d83-44cd-8a4c-93047d0f0295",
   "metadata": {},
   "source": [
    "$$\n",
    "g_{2}(x)=-\\frac{1}{2}(x-\\mu_{2})^{T}\\sigma _{2}^{-2}(x-\\mu_{2})+log(P_{2})\n",
    "$$"
   ]
  },
  {
   "cell_type": "markdown",
   "id": "b2d7026c-020e-4540-a9d4-fb5a64d9b61c",
   "metadata": {},
   "source": [
    "<a name=\"2.b\"></a>\n",
    "## Karar Siniri Denklemi"
   ]
  },
  {
   "cell_type": "markdown",
   "id": "e3aaad92-d73d-4a46-99c7-929cfcde07b5",
   "metadata": {},
   "source": [
    "Kodlama kisminda verilerin hangi sinifa ait oldugunun tahmini $g_{1}(x) \\gtrless  g_{2}(x)$ karsilastirmasini yaparak yapildi. Degerlendirilen ornegin ayirt edici fonksiyonlarindan hangisinin sonucu daha buyukse o sinifa dahil edildi."
   ]
  },
  {
   "cell_type": "markdown",
   "id": "80fb4620-3aa4-470c-9190-b93d33e220f6",
   "metadata": {},
   "source": [
    "Karar sinir denklemi ise ayirt edici fonksiyonun daha buyuk ya da kucuk oldugu bir degerin belirlenmesiyle elde edilir. $g_{1}(x) \\gtrless T$, ayirt edici fonksiyonun belirli bir esik degeri T'den daha buyuk veya kucuk olmasina gore siniflandirma yapilir.<br> Karar sinir denklemi ise $g_{1}(x)=T$ olur."
   ]
  },
  {
   "cell_type": "markdown",
   "id": "bda1a6c7-e231-4fe5-a78a-4a2991f6b42f",
   "metadata": {},
   "source": [
    "$$\n",
    "g_{1}^{-1}g_{1}(x)=g_{1}^{-1}(T)\n",
    "$$"
   ]
  },
  {
   "cell_type": "markdown",
   "id": "030f0ff5-782b-407c-918a-d2317ae42c8a",
   "metadata": {},
   "source": [
    "$$\n",
    "x=g_{1}^{-1}(T)\n",
    "$$"
   ]
  },
  {
   "cell_type": "markdown",
   "id": "29cecbce-9bd0-4f8f-be1c-badd28d9a0da",
   "metadata": {},
   "source": [
    "Karar bolgesi noktasinda, karar bolgesinde, ayirt edici fonksiyon hala muallakta kalir. Yani ayirt edici fonksiyonun tersi, karar bolgesi denklemidir, cunku tersi oldugunda bir karar verilmez ve $f^{-1}f(x)=x$"
   ]
  },
  {
   "cell_type": "markdown",
   "id": "70974322-5cd4-42a7-a4a4-3c6447c40977",
   "metadata": {},
   "source": [
    "Uyguladigimiz siniflandirici tasarimindaki islemlerdeki diskriminant fonksiyonunun yaptigi isi temsil etmek uzere $\\overrightarrow{w}$ belirlersek, ayirt edici fonksiyonun girisi olarak aldigimiz vektoru de $\\overrightarrow{x}$ olarak gosterirsek, o zaman ayirt edici fonksiyonun yaptigi is:<br><center>$\\overrightarrow{w}\\cdot\\overrightarrow{x}$</center><br>olarak ifade edilebilir. $\\overrightarrow{w}$ degeri $\\overrightarrow{x}$ degeri uzerine ic carpim ile etkileyerek onu donusturur. Bu donusumun bir skaler $c$'den buyuk olup olmadigina bakilarak $x$'in hangi sinifa ait oldugu belirlenir. Oyleyse $c$ karar siniri sabitidir (treshold constant, yani oncesinin T'si)."
   ]
  },
  {
   "cell_type": "markdown",
   "id": "c0fd694c-c32f-4c2c-99d4-e5772ae29d30",
   "metadata": {},
   "source": [
    "$$\n",
    "{\\vec {w}}=\\Sigma ^{-1}({\\vec {\\mu }}_{1}-{\\vec {\\mu }}_{0})\n",
    "$$"
   ]
  },
  {
   "cell_type": "markdown",
   "id": "85bda172-c6c8-47e6-a2f4-9d8e6d86e7d0",
   "metadata": {},
   "source": [
    "$$\n",
    "c={\\vec {w}}\\cdot {\\frac {1}{2}}({\\vec {\\mu }}_{1}+{\\vec {\\mu }}_{0})\n",
    "$$"
   ]
  },
  {
   "cell_type": "markdown",
   "id": "6dc1b083-a44d-4e2e-82dc-9589e50f019a",
   "metadata": {},
   "source": [
    "<a name=\"2.c\"></a>\n",
    "## Yapilan Ogreticili Siniflandirici Midir?"
   ]
  },
  {
   "cell_type": "markdown",
   "id": "3ec0411c-2556-4f40-892c-1f8365db0578",
   "metadata": {},
   "source": [
    "Evet, ogreticili siniflandirmadir. Bunun sebebi kullandigimiz verilerin etiketli (labelled) olmasidir. Elimizde sinif 1 ve sinif 2 vardi ve bastan beri bunlari kullanarak siniflandiricilari olusturduk. Buna zit olarak ogreticili olmayan (unsupervised) algoritmalarda sinif etiketleri olmaz. Obekleme (clustering) gibi algoritmalarda kendiliginden obekler olusturulur, onceden belirli degildir."
   ]
  },
  {
   "cell_type": "markdown",
   "id": "9c199071-2c61-472a-a42e-2b34d872a72a",
   "metadata": {},
   "source": [
    "<a name=\"2.d\"></a>\n",
    "## Siniflandirici Dogrusal Midir?"
   ]
  },
  {
   "cell_type": "markdown",
   "id": "94e1802a-fadb-4778-9d80-ab18b1508602",
   "metadata": {},
   "source": [
    "Tasarlanan siniflandirici, dogrusal bir siniflandiricidir. Dogrusal siniflandiricilar, ozniteliklerin dogrusal kombinasyonlarina dayanarak bir siniflandirma yapar.<br>https://en.wikipedia.org/wiki/Linear_classifier<br>\n",
    "Bu siniflandiricilardan biri ve bizim kullandigimiz siniflandirici:<br>https://en.wikipedia.org/wiki/Linear_discriminant_analysis<br>"
   ]
  },
  {
   "cell_type": "markdown",
   "id": "df5a1dbc-5326-4e1a-8e78-6f7ea685a8b0",
   "metadata": {},
   "source": [
    "Ayirt edici fonksiyon, ornek vektorunden oznitelik ortalama vektorlerinin cikarilmasi ve kovaryans matrisleri ve birbiriyle ic carpim yapilmasini iceren bir islemle hesaplanir. Bu sebeple sadece dogrusal kombinasyonlardan olusan islemler sonucu ayirt edici fonksiyonlarin sonucu elde edilir. Bu sekilde tasarlanan siniflandirici dogrusal bir siniflandiricidir."
   ]
  }
 ],
 "metadata": {
  "kernelspec": {
   "display_name": "Python 3 (ipykernel)",
   "language": "python",
   "name": "python3"
  },
  "language_info": {
   "codemirror_mode": {
    "name": "ipython",
    "version": 3
   },
   "file_extension": ".py",
   "mimetype": "text/x-python",
   "name": "python",
   "nbconvert_exporter": "python",
   "pygments_lexer": "ipython3",
   "version": "3.10.7"
  },
  "toc-showmarkdowntxt": false
 },
 "nbformat": 4,
 "nbformat_minor": 5
}
